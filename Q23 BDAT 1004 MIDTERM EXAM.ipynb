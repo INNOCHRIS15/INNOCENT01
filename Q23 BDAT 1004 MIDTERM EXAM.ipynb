{
 "cells": [
  {
   "cell_type": "markdown",
   "id": "c98a651b-7c84-4b0e-8d94-c0c99d0c233a",
   "metadata": {},
   "source": [
    "# Q23 \n"
   ]
  },
  {
   "cell_type": "code",
   "execution_count": 2,
   "id": "9face92a-60c9-417c-8df4-e1952cd3f03c",
   "metadata": {},
   "outputs": [
    {
     "name": "stdout",
     "output_type": "stream",
     "text": [
      "\n",
      "\n",
      "*\n",
      "*\n",
      "\n",
      "\n",
      "**\n",
      "*\n",
      "*\n",
      "**\n",
      "\n",
      "\n",
      "****\n",
      "***\n",
      "**\n",
      "*\n",
      "*\n",
      "**\n",
      "***\n",
      "****\n"
     ]
    }
   ],
   "source": [
    "def tough(indentation, n):\n",
    "    # Base case: if n is 0, do nothing\n",
    "    if n == 0:\n",
    "        return\n",
    "    \n",
    "    # First, print the increasing pattern\n",
    "    print(' ' * indentation + '*' * n)\n",
    "    \n",
    "    tough(indentation, n-1)\n",
    "    \n",
    "    print(' ' * indentation + '*' * n)\n",
    "\n",
    "tough(0, 0)  \n",
    "print(\"\\n\")   \n",
    "tough(0, 1)  \n",
    "print(\"\\n\")\n",
    "tough(0, 2)  \n",
    "print(\"\\n\")\n",
    "tough(0, 4)  \n"
   ]
  },
  {
   "cell_type": "code",
   "execution_count": null,
   "id": "8ddb1a43-c2f6-4ebb-9026-5f08a077b52e",
   "metadata": {},
   "outputs": [],
   "source": []
  }
 ],
 "metadata": {
  "kernelspec": {
   "display_name": "Python 3 (ipykernel)",
   "language": "python",
   "name": "python3"
  },
  "language_info": {
   "codemirror_mode": {
    "name": "ipython",
    "version": 3
   },
   "file_extension": ".py",
   "mimetype": "text/x-python",
   "name": "python",
   "nbconvert_exporter": "python",
   "pygments_lexer": "ipython3",
   "version": "3.12.4"
  }
 },
 "nbformat": 4,
 "nbformat_minor": 5
}
